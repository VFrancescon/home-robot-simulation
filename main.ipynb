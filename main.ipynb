{
 "cells": [
  {
   "cell_type": "markdown",
   "metadata": {},
   "source": [
    "# Notes for myself\n",
    "## Coding up will be sth like:\n",
    "1. Step 1 - generate simulation in 2d continous space (mesh points) (easish)\n",
    "* Parameters:\n",
    "    * nr tables\n",
    "    * nr objects\n",
    "    * nr objects per table?\n",
    "    * tables_shape - \"rectangle, non-rectangle\n",
    "    * rooms? walls?\n",
    "    * shape of objects ?\n",
    "    * \n",
    "2. Step 2 - graph the simulation (how?)\n",
    "* different colours for all following:\n",
    "    * robot\n",
    "    * tables\n",
    "    * object (sub-different colours fot different shapes?)\n",
    "    * generated trajectory?\n",
    "3. Step 3 - \n",
    "4. Step 4 - implement ORLA* and test in the environment\n",
    "5. \n",
    "\n",
    "\n",
    "The logic can be thought as roughly this while-loop:\n",
    "\n",
    "0. a. Generate simulation\n",
    "0. b. Generate the end-goal objective (that might be conceptually not straight-forward)\n",
    "\n",
    "while (not_finished):\n",
    "1. Graph the current situation\n",
    "2. Given current state of simulation - run TAMP algorithm (or is that just going to be Task Planning, without mobile manipulation, since we're assuming \"magic\" pick/place?. It's just a matter of definition/language interpretation I think)\n",
    "3. Generate the trajectory/action given output of (1)\n",
    "4. Graph the current situation + trajectory\n",
    "5. Check if the trajectory/action is feasible given output of (2)\n",
    "6. Update the current situation"
   ]
  },
  {
   "cell_type": "code",
   "execution_count": null,
   "metadata": {
    "vscode": {
     "languageId": "plaintext"
    }
   },
   "outputs": [],
   "source": []
  }
 ],
 "metadata": {
  "language_info": {
   "name": "python"
  }
 },
 "nbformat": 4,
 "nbformat_minor": 2
}
