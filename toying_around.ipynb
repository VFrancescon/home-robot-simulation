{
 "cells": [
  {
   "cell_type": "code",
   "execution_count": 1,
   "metadata": {},
   "outputs": [],
   "source": [
    "from shapely.geometry import Point, Polygon\n",
    "from shapely.plotting import patch_from_polygon\n",
    "import matplotlib.pyplot as plt\n",
    "import math \n",
    "import random\n",
    "from src.core.polygon_utils import box_to_coords, sample_from_polygon, check_if_polygons_overlap, inflate_polygon, inflate_circle"
   ]
  },
  {
   "cell_type": "code",
   "execution_count": 2,
   "metadata": {},
   "outputs": [],
   "source": [
    "def add_random_table(room_coords, other_tables_coords, min_distance_between_tables, table_size=None, rotation_angle=None, max_iter = 50000):\n",
    "    ''' \n",
    "    :param room_coords: list of tuples (x,y) shape:(4,2) representing the coordinates of the room\n",
    "    :param table_size: string representing the size of the table or two numbers representing width and length of the table\n",
    "    :return: list of tuples (x,y) shape:(4,2) representing the coordinates of the table\n",
    "    '''\n",
    "    # handle parameter table_size\n",
    "    i = 0\n",
    "    while True and i < max_iter:\n",
    "        i += 1\n",
    "        table_coords = generate_random_table_coords(room_coords, table_size, rotation_angle)\n",
    "        if check_if_table_is_valid(room_coords, table_coords, other_tables_coords, min_distance_between_tables): \n",
    "            return table_coords\n",
    "\n",
    "\n",
    "def generate_random_table_coords(room_coords, table_size = None, rotation_angle = None):\n",
    "    # 1. Handle input\n",
    "    if table_size == None: table_size = (random.randint(5,10), random.randint(1,3))\n",
    "    elif table_size == 'small': table_size = (1,2)\n",
    "    elif table_size == 'medium': table_size = (1,3)\n",
    "    elif table_size == 'large': table_size = (2,4)\n",
    "    elif isinstance (table_size, (tuple, list)) and len(table_size) == 2: pass\n",
    "    else : raise ValueError('table_size must be \"small\", \"medium\", \"large\" or a tuple of two numbers')\n",
    "\n",
    "    if rotation_angle == None: rotation_angle = random.randint(0,360)\n",
    "    elif isinstance(rotation_angle, (float, int)): pass\n",
    "    else : raise ValueError('rotation_angle must be an integer')\n",
    "    rotation_angle = math.radians(rotation_angle) # transfer to radians\n",
    "\n",
    "    # 2. Generate random origin point\n",
    "    origin_coords = sample_from_polygon(room_coords)\n",
    "    # 3. generate random coordinates for the table\n",
    "    table_coords = box_to_coords(table_size, origin_coords, rotation_angle)\n",
    "    return table_coords\n",
    "\n",
    "\n",
    "def check_if_table_is_valid(room_coords, table_coords, other_tables_coords, min_distance_between_tables):\n",
    "    # check if the table is inside the room\n",
    "    if not Polygon(room_coords).contains(Polygon(table_coords)): return False\n",
    "    # check if table is not overlapping (or too close) to other tables\n",
    "    for other_table_coords in other_tables_coords:\n",
    "        if check_if_polygons_overlap(Polygon(table_coords), Polygon(other_table_coords)): return False # this line probs unnecessary\n",
    "        if check_if_polygons_overlap(inflate_polygon(Polygon(table_coords), min_distance_between_tables), Polygon(other_table_coords)): return False\n",
    "    return True\n",
    "\n",
    "\n",
    "def plot(room_coord, tables_coord, objects_coord):\n",
    "    fig = plt.figure(1, figsize=(5,5), dpi=90)\n",
    "    ax = fig.add_subplot(111)\n",
    "    patch = patch_from_polygon(Polygon(room_coord), facecolor=[0,0,0], edgecolor=[0,0,0], alpha=0.5, zorder=2)\n",
    "    ax.add_patch(patch)\n",
    "    for table_coord in tables_coord:\n",
    "        patch = patch_from_polygon(Polygon(table_coord), facecolor=[0,1,0], edgecolor=[0,0,0], alpha=0.5, zorder=2)\n",
    "        ax.add_patch(patch)\n",
    "\n",
    "    for object_coord in objects_coord:\n",
    "        patch = patch_from_polygon(object_coord, facecolor=[0,0,1], edgecolor=[0,0,0], alpha=0.5, zorder=2)\n",
    "        ax.add_patch(patch)\n",
    "    \n",
    "    ax.set_xlim(-20, 20)\n",
    "    ax.set_ylim(-20, 20)\n",
    "    plt.show()\n",
    "\n"
   ]
  },
  {
   "cell_type": "code",
   "execution_count": 6,
   "metadata": {},
   "outputs": [],
   "source": [
    "def add_random_objet(table_coords, other_objects_coords, min_distance_between_objects, object_size=None, max_iter = 50000):\n",
    "    ''' \n",
    "    :param room_coords: list of tuples (x,y) shape:(4,2) representing the coordinates of the room\n",
    "    :param table_size: string representing the size of the table or two numbers representing width and length of the table\n",
    "    :return: list of tuples (x,y) shape:(4,2) representing the coordinates of the table\n",
    "    '''\n",
    "    # handle parameter table_size\n",
    "    i = 0\n",
    "    while True and i < max_iter:\n",
    "        i += 1\n",
    "        object_coords = generate_random_object_coords(table_coords, object_size)\n",
    "        if check_if_object_is_valid(table_coords, object_coords, other_objects_coords, min_distance_between_objects): \n",
    "            return object_coords\n",
    "        \n",
    "\n",
    "def generate_random_object_coords(table_coords, object_size = None):\n",
    "    # 1. Handle input\n",
    "    if object_size == None: object_size = random.randint(1,4)\n",
    "    elif object_size == 'small': object_size = 1\n",
    "    elif object_size == 'medium': object_size = 2\n",
    "    elif object_size == 'large': object_size = 3\n",
    "    elif isinstance (object_size, float) : pass \n",
    "    else : raise ValueError('object_size must be \"small\", \"medium\", \"large\" or a number')\n",
    "\n",
    "    # 2. Generate random origin point\n",
    "    origin_coords = sample_from_polygon(table_coords)\n",
    "    # 3. generate random coordinates for the table\n",
    "    # object_coords = Point(origin_coords).buffer(object_size).exterior.coords\n",
    "    object = Point(origin_coords).buffer(object_size)\n",
    "    return object\n",
    "\n",
    "def check_if_object_is_valid(table_coords, object_coords, other_objects_coords, min_distance_between_objects):\n",
    "    # check if the table is inside the room\n",
    "    if not Polygon(table_coords).contains(object_coords): return False\n",
    "    # check if table is not overlapping (or too close) to other tables\n",
    "    for other_object_coords in other_objects_coords:\n",
    "        if check_if_polygons_overlap(Polygon(object_coords), Polygon(other_object_coords)): return False # this line probs unnecessary\n",
    "        if check_if_polygons_overlap(inflate_circle(Polygon(object_coords), min_distance_between_objects), Polygon(other_objects_coords)): return False\n",
    "    return True"
   ]
  },
  {
   "cell_type": "code",
   "execution_count": 7,
   "metadata": {},
   "outputs": [],
   "source": [
    "single_table_coords = [(4.020857505897357, 1.2073461039274607), (-0.8417510873156235, -3.828032498443098), (0.5969285133616786, -5.217349239361092), (5.459537106574659, -0.18197063699053384), (4.020857505897357, 1.2073461039274607)]"
   ]
  },
  {
   "cell_type": "code",
   "execution_count": 9,
   "metadata": {},
   "outputs": [
    {
     "data": {
      "image/png": "[encoded data removed]",
      "text/plain": [
       "<Figure size 450x450 with 1 Axes>"
      ]
     },
     "metadata": {},
     "output_type": "display_data"
    }
   ],
   "source": [
    "room_coords = [(-10, -10), (-10, 10), (10, 10), (10, -10)]\n",
    "tables = [single_table_coords]\n",
    "# for i in range(10):\n",
    "#     table_coords = add_random_table(room_coords, tables, 1)\n",
    "#     tables.append(table_coords)\n",
    "object_ = add_random_objet(single_table_coords, [], 1, object_size = 0.5)\n",
    "plot(room_coords, tables, [object_])"
   ]
  }
 ],
 "metadata": {
  "kernelspec": {
   "display_name": "Python 3",
   "language": "python",
   "name": "python3"
  },
  "language_info": {
   "codemirror_mode": {
    "name": "ipython",
    "version": 3
   },
   "file_extension": ".py",
   "mimetype": "text/x-python",
   "name": "python",
   "nbconvert_exporter": "python",
   "pygments_lexer": "ipython3",
   "version": "3.10.9"
  }
 },
 "nbformat": 4,
 "nbformat_minor": 2
}
