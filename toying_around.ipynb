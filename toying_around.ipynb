{
 "cells": [
  {
   "cell_type": "code",
   "execution_count": 55,
   "metadata": {},
   "outputs": [],
   "source": [
    "from shapely.geometry import Point, Polygon\n",
    "from shapely.plotting import patch_from_polygon\n",
    "import matplotlib.pyplot as plt\n",
    "import math "
   ]
  },
  {
   "cell_type": "code",
   "execution_count": 20,
   "metadata": {},
   "outputs": [],
   "source": [
    "room_coords = [(-10, -10), (-10, 10), (10, 10), (10, -10)]\n",
    "\n",
    "def add_random_table(room_coords, table_size):\n",
    "    ''' \n",
    "    :param room_coords: list of tuples (x,y) shape:(4,2) representing the coordinates of the room\n",
    "    :param table_size: string representing the size of the table or two numbers representing width and length of the table\n",
    "    :return: list of tuples (x,y) shape:(4,2) representing the coordinates of the table\n",
    "    '''\n",
    "    # handle parameter table_size\n",
    "    if table_size == 'small': table_size = (1,2)\n",
    "    elif table_size == 'medium': table_size = (1,3)\n",
    "    elif table_size == 'large': table_size = (2,4)\n",
    "    elif isinstance (table_size, tuple) and len(table_size) == 2: pass\n",
    "    else : raise ValueError('table_size must be \"small\", \"medium\", \"large\" or a tuple of two numbers')\n",
    "\n",
    "    # generate random coordinates for the table\n",
    "    table_coords = generate_random_table_coords(room_coords, table_size)\n",
    "\n",
    "def check_if_table_is_valid(room_coords, table_coords, other_tables_coords, min_distance_between_tables):\n",
    "    # check if the table is inside the room\n",
    "    for c1, c2 in zip(table_coords, room_coords):\n",
    "        if c1[0] < c2[0] or c1[1] < c2[1]: return False\n",
    "\n",
    "    # check if table is not overlapping (or too close) to other tables\n",
    "    \n",
    "    return True\n",
    "    \n",
    "\n",
    "def soft_check_if_there_is_enough_space_in_room(room_coords, other_tables_coords, table_size, min_distance_between_tables):\n",
    "    ''' \n",
    "    soft check of whether the table will fit into the room\n",
    "    Look if there is enough space to fit a table side-by-side with a single other table, iterating over all 4 sides\n",
    "    This part might require extending if we want more than 3 tables (like 5), since it only really works for 1 table, \n",
    "    and loosely works for 2 tables (therefore a \"soft_check\" name)\n",
    "    '''\n",
    "    min_ = min(table_size) + min_distance_between_tables\n",
    "    for other_table_coords in other_tables_coords:\n",
    "        # calc distance between bottom side of the room and bottom side of the other table\n",
    "        distance = other_table_coords[0][1] - room_coords[0][1]\n",
    "        if distance >= min_: break\n",
    "        # calc distance between right side of the room and right side of the other table\n",
    "        distance = room_coords[2][0] - other_table_coords[2][0]\n",
    "        if distance >= min_: break\n",
    "        # calc distance between top side of the room and top side of the other table\n",
    "        distance = room_coords[2][1] - other_table_coords[2][1]\n",
    "        if distance >= min_: break\n",
    "        # calc distance between left side of the room and left side of the other table\n",
    "        distance = other_table_coords[0][0] - room_coords[0][0]\n",
    "        if distance >= min_: break\n",
    "        return False\n",
    "    return True\n",
    "\n",
    "\n",
    "def generate_random_table_coords(room_coords, table_size):\n",
    "    pass\n",
    "\n",
    "\n",
    "def plot(tables_coord,room_coord):\n",
    "    fig = plt.figure(1, figsize=(5,5), dpi=90)\n",
    "    ax = fig.add_subplot(111)\n",
    "    patch = patch_from_polygon(Polygon(room_coord), facecolor=[0,0,0], edgecolor=[0,0,0], alpha=0.5, zorder=2)\n",
    "    ax.add_patch(patch)\n",
    "    for table_coord in tables_coord:\n",
    "        patch = patch_from_polygon(Polygon(table_coord), facecolor=[0,1,0], edgecolor=[0,0,0], alpha=0.5, zorder=2)\n",
    "        ax.add_patch(patch)\n",
    "    ax.set_xlim(-20, 20)\n",
    "    ax.set_ylim(-20, 20)\n",
    "    plt.show()"
   ]
  },
  {
   "cell_type": "code",
   "execution_count": 24,
   "metadata": {},
   "outputs": [],
   "source": [
    "class orderderCoordinates:\n",
    "    '''Some of the math simplifies if we know coordinates are always ordered'''\n",
    "    def __init__(self, coords):\n",
    "        self.coords = self.order_coord(coords)\n",
    "\n",
    "    def order_coord(self, coords):\n",
    "        '''\n",
    "        order coordinates in following order:\n",
    "        1. Left bottom corner\n",
    "        2. Left top corner\n",
    "        3. Right top corner\n",
    "        4. Right bottom corner\n",
    "\n",
    "        Running time complexity is decent, since we know there are always only 4 coordinates, didn't bother with optimization\n",
    "\n",
    "        params: coords - list of tuples (x,y) shape:(4,2) representing the coordinates of the room or a table\n",
    "        '''\n",
    "        return_ = []\n",
    "        # find left bottom corner\n",
    "        left_bottom_corner = coords[0]\n",
    "        for coord in coords:\n",
    "            if coord[0] <= left_bottom_corner[0] and coord[1] <= left_bottom_corner[1]:\n",
    "                left_bottom_corner = coord\n",
    "        return_.append(left_bottom_corner)\n",
    "        # find left top corner\n",
    "        left_top_corner = coords[0]\n",
    "        for coord in coords:\n",
    "            if coord[0] <= left_top_corner[0] and coord[1] >= left_top_corner[1]:\n",
    "                left_top_corner = coord\n",
    "\n",
    "        if left_top_corner != left_bottom_corner:\n",
    "            return_.append(left_top_corner)\n",
    "        else: \n",
    "            raise Exception('left_top_corner == left_bottom_corner')\n",
    "        \n",
    "        # find right top corner\n",
    "        right_top_corner = coords[0]\n",
    "        for coord in coords:\n",
    "            if coord[0] >= right_top_corner[0] and coord[1] >= right_top_corner[1]:\n",
    "                right_top_corner = coord\n",
    "\n",
    "        if right_top_corner != left_bottom_corner and right_top_corner != left_top_corner:\n",
    "            return_.append(right_top_corner)\n",
    "        else:\n",
    "            raise Exception('right_top_corner == left_bottom_corner or right_top_corner == left_top_corner')\n",
    "        \n",
    "        # find right bottom corner\n",
    "        right_bottom_corner = coords[0]\n",
    "        for coord in coords:\n",
    "            if coord[0] >= right_bottom_corner[0] and coord[1] <= right_bottom_corner[1]:\n",
    "                right_bottom_corner = coord\n",
    "        \n",
    "        if right_bottom_corner != left_bottom_corner and right_bottom_corner != left_top_corner and right_bottom_corner != right_top_corner:\n",
    "            return_.append(right_bottom_corner)\n",
    "        else:\n",
    "            raise Exception('right_bottom_corner == left_bottom_corner or right_bottom_corner == left_top_corner or right_bottom_corner == right_top_corner')\n",
    "        \n",
    "        return return_\n",
    "        "
   ]
  },
  {
   "cell_type": "code",
   "execution_count": 44,
   "metadata": {},
   "outputs": [],
   "source": [
    "from src.core.polygon import box_to_coords\n"
   ]
  },
  {
   "cell_type": "code",
   "execution_count": 39,
   "metadata": {},
   "outputs": [
    {
     "ename": "Exception",
     "evalue": "left_top_corner == left_bottom_corner",
     "output_type": "error",
     "traceback": [
      "\u001b[0;31m---------------------------------------------------------------------------\u001b[0m",
      "\u001b[0;31mException\u001b[0m                                 Traceback (most recent call last)",
      "\u001b[1;32m/Users/szczekulskij/masters-work/robo-lab/home-robot-simulation/toying_around.ipynb Cell 4\u001b[0m line \u001b[0;36m2\n\u001b[1;32m      <a href='vscode-notebook-cell:/Users/szczekulskij/masters-work/robo-lab/home-robot-simulation/toying_around.ipynb#X13sZmlsZQ%3D%3D?line=0'>1</a>\u001b[0m coords \u001b[39m=\u001b[39m [(\u001b[39m0\u001b[39m,\u001b[39m0\u001b[39m), (\u001b[39m5\u001b[39m,\u001b[39m5\u001b[39m), (\u001b[39m10\u001b[39m,\u001b[39m0\u001b[39m), (\u001b[39m5\u001b[39m,\u001b[39m-\u001b[39m\u001b[39m5\u001b[39m)]\n\u001b[0;32m----> <a href='vscode-notebook-cell:/Users/szczekulskij/masters-work/robo-lab/home-robot-simulation/toying_around.ipynb#X13sZmlsZQ%3D%3D?line=1'>2</a>\u001b[0m ordered_coords \u001b[39m=\u001b[39m orderderCoordinates(coords)\u001b[39m.\u001b[39mcoords\n\u001b[1;32m      <a href='vscode-notebook-cell:/Users/szczekulskij/masters-work/robo-lab/home-robot-simulation/toying_around.ipynb#X13sZmlsZQ%3D%3D?line=2'>3</a>\u001b[0m \u001b[39mprint\u001b[39m(ordered_coords)\n",
      "\u001b[1;32m/Users/szczekulskij/masters-work/robo-lab/home-robot-simulation/toying_around.ipynb Cell 4\u001b[0m line \u001b[0;36m4\n\u001b[1;32m      <a href='vscode-notebook-cell:/Users/szczekulskij/masters-work/robo-lab/home-robot-simulation/toying_around.ipynb#X13sZmlsZQ%3D%3D?line=2'>3</a>\u001b[0m \u001b[39mdef\u001b[39;00m \u001b[39m__init__\u001b[39m(\u001b[39mself\u001b[39m, coords):\n\u001b[0;32m----> <a href='vscode-notebook-cell:/Users/szczekulskij/masters-work/robo-lab/home-robot-simulation/toying_around.ipynb#X13sZmlsZQ%3D%3D?line=3'>4</a>\u001b[0m     \u001b[39mself\u001b[39m\u001b[39m.\u001b[39mcoords \u001b[39m=\u001b[39m \u001b[39mself\u001b[39;49m\u001b[39m.\u001b[39;49morder_coord(coords)\n",
      "\u001b[1;32m/Users/szczekulskij/masters-work/robo-lab/home-robot-simulation/toying_around.ipynb Cell 4\u001b[0m line \u001b[0;36m3\n\u001b[1;32m     <a href='vscode-notebook-cell:/Users/szczekulskij/masters-work/robo-lab/home-robot-simulation/toying_around.ipynb#X13sZmlsZQ%3D%3D?line=31'>32</a>\u001b[0m     return_\u001b[39m.\u001b[39mappend(left_top_corner)\n\u001b[1;32m     <a href='vscode-notebook-cell:/Users/szczekulskij/masters-work/robo-lab/home-robot-simulation/toying_around.ipynb#X13sZmlsZQ%3D%3D?line=32'>33</a>\u001b[0m \u001b[39melse\u001b[39;00m: \n\u001b[0;32m---> <a href='vscode-notebook-cell:/Users/szczekulskij/masters-work/robo-lab/home-robot-simulation/toying_around.ipynb#X13sZmlsZQ%3D%3D?line=33'>34</a>\u001b[0m     \u001b[39mraise\u001b[39;00m \u001b[39mException\u001b[39;00m(\u001b[39m'\u001b[39m\u001b[39mleft_top_corner == left_bottom_corner\u001b[39m\u001b[39m'\u001b[39m)\n\u001b[1;32m     <a href='vscode-notebook-cell:/Users/szczekulskij/masters-work/robo-lab/home-robot-simulation/toying_around.ipynb#X13sZmlsZQ%3D%3D?line=35'>36</a>\u001b[0m \u001b[39m# find right top corner\u001b[39;00m\n\u001b[1;32m     <a href='vscode-notebook-cell:/Users/szczekulskij/masters-work/robo-lab/home-robot-simulation/toying_around.ipynb#X13sZmlsZQ%3D%3D?line=36'>37</a>\u001b[0m right_top_corner \u001b[39m=\u001b[39m coords[\u001b[39m0\u001b[39m]\n",
      "\u001b[0;31mException\u001b[0m: left_top_corner == left_bottom_corner"
     ]
    }
   ],
   "source": [
    "coords = [(0,0), (5,5), (10,0), (5,-5)]\n",
    "ordered_coords = orderderCoordinates(coords).coords\n",
    "print(ordered_coords)"
   ]
  },
  {
   "cell_type": "code",
   "execution_count": 64,
   "metadata": {},
   "outputs": [
    {
     "data": {
      "image/png": "[encoded data removed]",
      "text/plain": [
       "<Figure size 450x450 with 1 Axes>"
      ]
     },
     "metadata": {},
     "output_type": "display_data"
    }
   ],
   "source": [
    "# single_table_coords = [(-2,5), (-2,0), (5,0), (5,5)]\n",
    "# single_table_coords = [(0,0), (5,5), (10,0), (5,-5)]\n",
    "single_table_coords = box_to_coords((2,5), [0,0], (50 * math.pi/180))\n",
    "plot([single_table_coords],room_coords)"
   ]
  },
  {
   "cell_type": "code",
   "execution_count": null,
   "metadata": {},
   "outputs": [],
   "source": []
  }
 ],
 "metadata": {
  "kernelspec": {
   "display_name": "Python 3",
   "language": "python",
   "name": "python3"
  },
  "language_info": {
   "codemirror_mode": {
    "name": "ipython",
    "version": 3
   },
   "file_extension": ".py",
   "mimetype": "text/x-python",
   "name": "python",
   "nbconvert_exporter": "python",
   "pygments_lexer": "ipython3",
   "version": "3.10.9"
  }
 },
 "nbformat": 4,
 "nbformat_minor": 2
}
