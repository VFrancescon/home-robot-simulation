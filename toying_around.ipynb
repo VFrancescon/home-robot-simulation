{
 "cells": [
  {
   "cell_type": "code",
   "execution_count": null,
   "metadata": {},
   "outputs": [],
   "source": []
  },
  {
   "cell_type": "code",
   "execution_count": 4,
   "metadata": {},
   "outputs": [],
   "source": [
    "from shapely.geometry import Point, Polygon\n",
    "from shapely.plotting import patch_from_polygon\n",
    "\n",
    "\n",
    "point = Point(0.5, 0.5)\n"
   ]
  },
  {
   "cell_type": "code",
   "execution_count": null,
   "metadata": {},
   "outputs": [],
   "source": [
    "viz_patch = patch_from_polygon(\n",
    "            point.buffer(0.1),\n",
    "            facecolor=None,\n",
    "            edgecolor=[0.6, 0.6, 0.6],\n",
    "            linewidth=2,\n",
    "            fill=None,\n",
    "            alpha=0.75,\n",
    "            zorder=3,\n",
    "        )"
   ]
  }
 ],
 "metadata": {
  "kernelspec": {
   "display_name": "Python 3",
   "language": "python",
   "name": "python3"
  },
  "language_info": {
   "codemirror_mode": {
    "name": "ipython",
    "version": 3
   },
   "file_extension": ".py",
   "mimetype": "text/x-python",
   "name": "python",
   "nbconvert_exporter": "python",
   "pygments_lexer": "ipython3",
   "version": "3.10.9"
  }
 },
 "nbformat": 4,
 "nbformat_minor": 2
}
