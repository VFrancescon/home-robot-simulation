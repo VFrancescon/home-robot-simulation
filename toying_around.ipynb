{
 "cells": [
  {
   "cell_type": "code",
   "execution_count": null,
   "metadata": {},
   "outputs": [],
   "source": [
    "# 1. Setup world creation\n",
    "# 2. Setup world rendering\n",
    "# 3. Set up room creation\n",
    "# 4. Set up object creation\n",
    "\n",
    "# Make the points random & make a random solution (doesn't have to be feasible)\n",
    "from src.world import World"
   ]
  },
  {
   "cell_type": "code",
   "execution_count": null,
   "metadata": {},
   "outputs": [],
   "source": []
  }
 ],
 "metadata": {
  "language_info": {
   "name": "python"
  }
 },
 "nbformat": 4,
 "nbformat_minor": 2
}
