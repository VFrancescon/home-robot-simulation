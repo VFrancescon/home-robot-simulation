{
 "cells": [
  {
   "cell_type": "code",
   "execution_count": 1,
   "metadata": {},
   "outputs": [],
   "source": [
    "from shapely.geometry import Point, Polygon\n",
    "from shapely.plotting import patch_from_polygon\n",
    "import matplotlib.pyplot as plt\n",
    "import math \n",
    "import random\n",
    "from src.core.polygon_utils import box_to_coords, sample_from_polygon, check_if_polygons_overlap, inflate_polygon, inflate_circle"
   ]
  },
  {
   "cell_type": "code",
   "execution_count": 29,
   "metadata": {},
   "outputs": [],
   "source": [
    "def add_random_table(room_coords, other_tables_coords, min_distance_between_tables, table_size=None, rotation_angle=None, max_iter = 50000):\n",
    "    ''' \n",
    "    :param room_coords: list of tuples (x,y) shape:(4,2) representing the coordinates of the room\n",
    "    :param table_size: string representing the size of the table or two numbers representing width and length of the table\n",
    "    :return: list of tuples (x,y) shape:(4,2) representing the coordinates of the table\n",
    "    '''\n",
    "    # handle parameter table_size\n",
    "    i = 0\n",
    "    while True and i < max_iter:\n",
    "        i += 1\n",
    "        table_coords = generate_random_table_coords(room_coords, table_size, rotation_angle)\n",
    "        if check_if_table_is_valid(room_coords, table_coords, other_tables_coords, min_distance_between_tables): \n",
    "            return table_coords\n",
    "\n",
    "\n",
    "def generate_random_table_coords(room_coords, table_size = None, rotation_angle = None):\n",
    "    # 1. Handle input\n",
    "    if table_size == None: table_size = (random.randint(5,10), random.randint(1,3))\n",
    "    elif table_size == 'small': table_size = (1,2)\n",
    "    elif table_size == 'medium': table_size = (1,3)\n",
    "    elif table_size == 'large': table_size = (2,4)\n",
    "    elif isinstance (table_size, (tuple, list)) and len(table_size) == 2: pass\n",
    "    else : raise ValueError('table_size must be \"small\", \"medium\", \"large\" or a tuple of two numbers')\n",
    "\n",
    "    if rotation_angle == None: rotation_angle = random.randint(0,360)\n",
    "    elif isinstance(rotation_angle, (float, int)): pass\n",
    "    else : raise ValueError('rotation_angle must be an integer')\n",
    "    rotation_angle = math.radians(rotation_angle) # transfer to radians\n",
    "\n",
    "    # 2. Generate random origin point\n",
    "    origin_coords = sample_from_polygon(room_coords)\n",
    "    # 3. generate random coordinates for the table\n",
    "    table_coords = box_to_coords(table_size, origin_coords, rotation_angle)\n",
    "    return table_coords\n",
    "\n",
    "\n",
    "def check_if_table_is_valid(room_coords, table_coords, other_tables_coords, min_distance_between_tables):\n",
    "    # check if the table is inside the room\n",
    "    if not Polygon(room_coords).contains(Polygon(table_coords)): return False\n",
    "    # check if table is not overlapping (or too close) to other tables\n",
    "    for other_table_coords in other_tables_coords:\n",
    "        if check_if_polygons_overlap(Polygon(table_coords), Polygon(other_table_coords)): return False # this line probs unnecessary\n",
    "        if check_if_polygons_overlap(inflate_polygon(Polygon(table_coords), min_distance_between_tables), Polygon(other_table_coords)): return False\n",
    "    return True\n",
    "\n",
    "\n",
    "def plot(room_coord, tables_coord, objects_coord):\n",
    "    fig = plt.figure(1, figsize=(5,5), dpi=90)\n",
    "    ax = fig.add_subplot(111)\n",
    "    patch = patch_from_polygon(Polygon(room_coord), facecolor=[0,0,0], edgecolor=[0,0,0], alpha=0.5, zorder=2)\n",
    "    ax.add_patch(patch)\n",
    "    for table_coord in tables_coord:\n",
    "        patch = patch_from_polygon(Polygon(table_coord), facecolor=[0,1,0], edgecolor=[0,0,0], alpha=0.5, zorder=2)\n",
    "        ax.add_patch(patch)\n",
    "\n",
    "    for object_coord in objects_coord:\n",
    "        patch = patch_from_polygon(object_coord, facecolor=[0,0,1], edgecolor=[0,0,0], alpha=0.5, zorder=2)\n",
    "        ax.add_patch(patch)\n",
    "    \n",
    "    ax.set_xlim(-20, 20)\n",
    "    ax.set_ylim(-20, 20)\n",
    "    plt.show()\n",
    "\n"
   ]
  },
  {
   "cell_type": "code",
   "execution_count": 30,
   "metadata": {},
   "outputs": [],
   "source": [
    "def add_random_objet(table_coords, other_objects_coords, min_distance_between_objects, object_size=None, max_iter = 50000):\n",
    "    ''' \n",
    "    :param room_coords: list of tuples (x,y) shape:(4,2) representing the coordinates of the room\n",
    "    :param table_size: string representing the size of the table or two numbers representing width and length of the table\n",
    "    :return: list of tuples (x,y) shape:(4,2) representing the coordinates of the table\n",
    "    '''\n",
    "    # handle parameter table_size\n",
    "    i = 0\n",
    "    while True and i < max_iter:\n",
    "        i += 1\n",
    "        object_coords = generate_random_object_coords(table_coords, object_size)\n",
    "        if check_if_object_is_valid(table_coords, object_coords, other_objects_coords, min_distance_between_objects): \n",
    "            return object_coords\n",
    "        \n",
    "\n",
    "def generate_random_object_coords(table_coords, object_size = None):\n",
    "    # 1. Handle input\n",
    "    if object_size == None: object_size = random.randint(1,4)\n",
    "    elif object_size == 'small': object_size = 1\n",
    "    elif object_size == 'medium': object_size = 2\n",
    "    elif object_size == 'large': object_size = 3\n",
    "    elif isinstance (object_size, (int, float)) : pass \n",
    "    else : raise ValueError('object_size must be \"small\", \"medium\", \"large\" or a number')\n",
    "\n",
    "    # 2. Generate random origin point\n",
    "    origin_coords = sample_from_polygon(table_coords)\n",
    "    # 3. generate random coordinates for the table\n",
    "    # object_coords = Point(origin_coords).buffer(object_size).exterior.coords\n",
    "    object = Point(origin_coords).buffer(object_size)\n",
    "    return object\n",
    "\n",
    "def check_if_object_is_valid(table_coords, object_coords, other_objects_coords, min_distance_between_objects):\n",
    "    # check if the table is inside the room\n",
    "    if not Polygon(table_coords).contains(object_coords): return False\n",
    "    # check if table is not overlapping (or too close) to other tables\n",
    "    for other_object_coords in other_objects_coords:\n",
    "        if check_if_polygons_overlap(Polygon(object_coords), Polygon(other_object_coords)): return False # this line probs unnecessary\n",
    "        if check_if_polygons_overlap(inflate_circle(object_coords, min_distance_between_objects), other_object_coords): return False\n",
    "    return True"
   ]
  },
  {
   "cell_type": "code",
   "execution_count": 31,
   "metadata": {},
   "outputs": [],
   "source": [
    "single_table_coords = [(4.020857505897357, 1.2073461039274607), (-0.8417510873156235, -3.828032498443098), (0.5969285133616786, -5.217349239361092), (5.459537106574659, -0.18197063699053384), (4.020857505897357, 1.2073461039274607)]"
   ]
  },
  {
   "cell_type": "code",
   "execution_count": 32,
   "metadata": {},
   "outputs": [
    {
     "data": {
      "image/png": "[encoded data removed]",
      "text/plain": [
       "<Figure size 450x450 with 1 Axes>"
      ]
     },
     "metadata": {},
     "output_type": "display_data"
    }
   ],
   "source": [
    "room_coords = [(-10, -10), (-10, 10), (10, 10), (10, -10)]\n",
    "tables = []\n",
    "for i in range(10):\n",
    "    table_coords = add_random_table(room_coords, tables, 1)\n",
    "    tables.append(table_coords)\n",
    "plot(room_coords, tables, [])"
   ]
  },
  {
   "cell_type": "code",
   "execution_count": 33,
   "metadata": {},
   "outputs": [
    {
     "ename": "KeyboardInterrupt",
     "evalue": "",
     "output_type": "error",
     "traceback": [
      "\u001b[0;31m---------------------------------------------------------------------------\u001b[0m",
      "\u001b[0;31mKeyboardInterrupt\u001b[0m                         Traceback (most recent call last)",
      "\u001b[1;32m/Users/szczekulskij/masters-work/robo-lab/home-robot-simulation/toying_around.ipynb Cell 6\u001b[0m line \u001b[0;36m1\n\u001b[1;32m     <a href='vscode-notebook-cell:/Users/szczekulskij/masters-work/robo-lab/home-robot-simulation/toying_around.ipynb#X42sZmlsZQ%3D%3D?line=10'>11</a>\u001b[0m objects_1d \u001b[39m=\u001b[39m []\n\u001b[1;32m     <a href='vscode-notebook-cell:/Users/szczekulskij/masters-work/robo-lab/home-robot-simulation/toying_around.ipynb#X42sZmlsZQ%3D%3D?line=11'>12</a>\u001b[0m \u001b[39mfor\u001b[39;00m i \u001b[39min\u001b[39;00m \u001b[39mrange\u001b[39m(\u001b[39m2\u001b[39m):\n\u001b[0;32m---> <a href='vscode-notebook-cell:/Users/szczekulskij/masters-work/robo-lab/home-robot-simulation/toying_around.ipynb#X42sZmlsZQ%3D%3D?line=12'>13</a>\u001b[0m     object_coords \u001b[39m=\u001b[39m add_random_objet(table_coords, objects_1d, min_distance_between_objects \u001b[39m=\u001b[39;49m \u001b[39m0.1\u001b[39;49m, object_size \u001b[39m=\u001b[39;49m \u001b[39m1\u001b[39;49m)\n\u001b[1;32m     <a href='vscode-notebook-cell:/Users/szczekulskij/masters-work/robo-lab/home-robot-simulation/toying_around.ipynb#X42sZmlsZQ%3D%3D?line=13'>14</a>\u001b[0m     objects_1d\u001b[39m.\u001b[39mappend(object_coords)\n\u001b[1;32m     <a href='vscode-notebook-cell:/Users/szczekulskij/masters-work/robo-lab/home-robot-simulation/toying_around.ipynb#X42sZmlsZQ%3D%3D?line=14'>15</a>\u001b[0m objects2d\u001b[39m.\u001b[39mappend(objects_1d)\n",
      "\u001b[1;32m/Users/szczekulskij/masters-work/robo-lab/home-robot-simulation/toying_around.ipynb Cell 6\u001b[0m line \u001b[0;36m1\n\u001b[1;32m      <a href='vscode-notebook-cell:/Users/szczekulskij/masters-work/robo-lab/home-robot-simulation/toying_around.ipynb#X42sZmlsZQ%3D%3D?line=8'>9</a>\u001b[0m \u001b[39mwhile\u001b[39;00m \u001b[39mTrue\u001b[39;00m \u001b[39mand\u001b[39;00m i \u001b[39m<\u001b[39m max_iter:\n\u001b[1;32m     <a href='vscode-notebook-cell:/Users/szczekulskij/masters-work/robo-lab/home-robot-simulation/toying_around.ipynb#X42sZmlsZQ%3D%3D?line=9'>10</a>\u001b[0m     i \u001b[39m+\u001b[39m\u001b[39m=\u001b[39m \u001b[39m1\u001b[39m\n\u001b[0;32m---> <a href='vscode-notebook-cell:/Users/szczekulskij/masters-work/robo-lab/home-robot-simulation/toying_around.ipynb#X42sZmlsZQ%3D%3D?line=10'>11</a>\u001b[0m     object_coords \u001b[39m=\u001b[39m generate_random_object_coords(table_coords, object_size)\n\u001b[1;32m     <a href='vscode-notebook-cell:/Users/szczekulskij/masters-work/robo-lab/home-robot-simulation/toying_around.ipynb#X42sZmlsZQ%3D%3D?line=11'>12</a>\u001b[0m     \u001b[39mif\u001b[39;00m check_if_object_is_valid(table_coords, object_coords, other_objects_coords, min_distance_between_objects): \n\u001b[1;32m     <a href='vscode-notebook-cell:/Users/szczekulskij/masters-work/robo-lab/home-robot-simulation/toying_around.ipynb#X42sZmlsZQ%3D%3D?line=12'>13</a>\u001b[0m         \u001b[39mreturn\u001b[39;00m object_coords\n",
      "\u001b[1;32m/Users/szczekulskij/masters-work/robo-lab/home-robot-simulation/toying_around.ipynb Cell 6\u001b[0m line \u001b[0;36m2\n\u001b[1;32m     <a href='vscode-notebook-cell:/Users/szczekulskij/masters-work/robo-lab/home-robot-simulation/toying_around.ipynb#X42sZmlsZQ%3D%3D?line=22'>23</a>\u001b[0m \u001b[39melse\u001b[39;00m : \u001b[39mraise\u001b[39;00m \u001b[39mValueError\u001b[39;00m(\u001b[39m'\u001b[39m\u001b[39mobject_size must be \u001b[39m\u001b[39m\"\u001b[39m\u001b[39msmall\u001b[39m\u001b[39m\"\u001b[39m\u001b[39m, \u001b[39m\u001b[39m\"\u001b[39m\u001b[39mmedium\u001b[39m\u001b[39m\"\u001b[39m\u001b[39m, \u001b[39m\u001b[39m\"\u001b[39m\u001b[39mlarge\u001b[39m\u001b[39m\"\u001b[39m\u001b[39m or a number\u001b[39m\u001b[39m'\u001b[39m)\n\u001b[1;32m     <a href='vscode-notebook-cell:/Users/szczekulskij/masters-work/robo-lab/home-robot-simulation/toying_around.ipynb#X42sZmlsZQ%3D%3D?line=24'>25</a>\u001b[0m \u001b[39m# 2. Generate random origin point\u001b[39;00m\n\u001b[0;32m---> <a href='vscode-notebook-cell:/Users/szczekulskij/masters-work/robo-lab/home-robot-simulation/toying_around.ipynb#X42sZmlsZQ%3D%3D?line=25'>26</a>\u001b[0m origin_coords \u001b[39m=\u001b[39m sample_from_polygon(table_coords)\n\u001b[1;32m     <a href='vscode-notebook-cell:/Users/szczekulskij/masters-work/robo-lab/home-robot-simulation/toying_around.ipynb#X42sZmlsZQ%3D%3D?line=26'>27</a>\u001b[0m \u001b[39m# 3. generate random coordinates for the table\u001b[39;00m\n\u001b[1;32m     <a href='vscode-notebook-cell:/Users/szczekulskij/masters-work/robo-lab/home-robot-simulation/toying_around.ipynb#X42sZmlsZQ%3D%3D?line=27'>28</a>\u001b[0m \u001b[39m# object_coords = Point(origin_coords).buffer(object_size).exterior.coords\u001b[39;00m\n\u001b[1;32m     <a href='vscode-notebook-cell:/Users/szczekulskij/masters-work/robo-lab/home-robot-simulation/toying_around.ipynb#X42sZmlsZQ%3D%3D?line=28'>29</a>\u001b[0m \u001b[39mobject\u001b[39m \u001b[39m=\u001b[39m Point(origin_coords)\u001b[39m.\u001b[39mbuffer(object_size)\n",
      "File \u001b[0;32m~/masters-work/robo-lab/home-robot-simulation/src/core/polygon_utils.py:129\u001b[0m, in \u001b[0;36msample_from_polygon\u001b[0;34m(polygon, max_tries)\u001b[0m\n\u001b[1;32m    115\u001b[0m \u001b[39mdef\u001b[39;00m \u001b[39msample_from_polygon\u001b[39m(polygon, max_tries\u001b[39m=\u001b[39m\u001b[39m100\u001b[39m):\n\u001b[1;32m    116\u001b[0m \u001b[39m    \u001b[39m\u001b[39m\"\"\"\u001b[39;00m\n\u001b[1;32m    117\u001b[0m \u001b[39m    Samples a valid (x, y) tuple that is inside a Shapely polygon.\u001b[39;00m\n\u001b[1;32m    118\u001b[0m \u001b[39m    This is done using rejection sampling, in which we sample from the\u001b[39;00m\n\u001b[0;32m   (...)\u001b[0m\n\u001b[1;32m    127\u001b[0m \u001b[39m    :rtype: (float, float)\u001b[39;00m\n\u001b[1;32m    128\u001b[0m \u001b[39m    \"\"\"\u001b[39;00m\n\u001b[0;32m--> 129\u001b[0m     \u001b[39mif\u001b[39;00m \u001b[39mtype\u001b[39m(polygon) \u001b[39mis\u001b[39;00m \u001b[39mnot\u001b[39;00m Polygon: polygon \u001b[39m=\u001b[39m Polygon(polygon)\n\u001b[1;32m    131\u001b[0m     xmin, ymin, xmax, ymax \u001b[39m=\u001b[39m polygon\u001b[39m.\u001b[39mbounds\n\u001b[1;32m    132\u001b[0m     \u001b[39mfor\u001b[39;00m _ \u001b[39min\u001b[39;00m \u001b[39mrange\u001b[39m(max_tries):\n",
      "File \u001b[0;32m/usr/local/lib/python3.10/site-packages/shapely/geometry/polygon.py:230\u001b[0m, in \u001b[0;36mPolygon.__new__\u001b[0;34m(self, shell, holes)\u001b[0m\n\u001b[1;32m    228\u001b[0m     \u001b[39mreturn\u001b[39;00m shell\n\u001b[1;32m    229\u001b[0m \u001b[39melse\u001b[39;00m:\n\u001b[0;32m--> 230\u001b[0m     shell \u001b[39m=\u001b[39m LinearRing(shell)\n\u001b[1;32m    232\u001b[0m \u001b[39mif\u001b[39;00m holes \u001b[39mis\u001b[39;00m \u001b[39mnot\u001b[39;00m \u001b[39mNone\u001b[39;00m:\n\u001b[1;32m    233\u001b[0m     \u001b[39mif\u001b[39;00m \u001b[39mlen\u001b[39m(holes) \u001b[39m==\u001b[39m \u001b[39m0\u001b[39m:\n\u001b[1;32m    234\u001b[0m         \u001b[39m# shapely constructor cannot handle holes=[]\u001b[39;00m\n",
      "File \u001b[0;32m/usr/local/lib/python3.10/site-packages/shapely/geometry/polygon.py:104\u001b[0m, in \u001b[0;36mLinearRing.__new__\u001b[0;34m(self, coordinates)\u001b[0m\n\u001b[1;32m     99\u001b[0m \u001b[39mif\u001b[39;00m \u001b[39mlen\u001b[39m(coordinates) \u001b[39m==\u001b[39m \u001b[39m0\u001b[39m:\n\u001b[1;32m    100\u001b[0m     \u001b[39m# empty geometry\u001b[39;00m\n\u001b[1;32m    101\u001b[0m     \u001b[39m# TODO better constructor + should shapely.linearrings handle this?\u001b[39;00m\n\u001b[1;32m    102\u001b[0m     \u001b[39mreturn\u001b[39;00m shapely\u001b[39m.\u001b[39mfrom_wkt(\u001b[39m\"\u001b[39m\u001b[39mLINEARRING EMPTY\u001b[39m\u001b[39m\"\u001b[39m)\n\u001b[0;32m--> 104\u001b[0m geom \u001b[39m=\u001b[39m shapely\u001b[39m.\u001b[39;49mlinearrings(coordinates)\n\u001b[1;32m    105\u001b[0m \u001b[39mif\u001b[39;00m \u001b[39mnot\u001b[39;00m \u001b[39misinstance\u001b[39m(geom, LinearRing):\n\u001b[1;32m    106\u001b[0m     \u001b[39mraise\u001b[39;00m \u001b[39mValueError\u001b[39;00m(\u001b[39m\"\u001b[39m\u001b[39mInvalid values passed to LinearRing constructor\u001b[39m\u001b[39m\"\u001b[39m)\n",
      "File \u001b[0;32m/usr/local/lib/python3.10/site-packages/shapely/decorators.py:77\u001b[0m, in \u001b[0;36mmultithreading_enabled.<locals>.wrapped\u001b[0;34m(*args, **kwargs)\u001b[0m\n\u001b[1;32m     75\u001b[0m     \u001b[39mfor\u001b[39;00m arr \u001b[39min\u001b[39;00m array_args:\n\u001b[1;32m     76\u001b[0m         arr\u001b[39m.\u001b[39mflags\u001b[39m.\u001b[39mwriteable \u001b[39m=\u001b[39m \u001b[39mFalse\u001b[39;00m\n\u001b[0;32m---> 77\u001b[0m     \u001b[39mreturn\u001b[39;00m func(\u001b[39m*\u001b[39;49margs, \u001b[39m*\u001b[39;49m\u001b[39m*\u001b[39;49mkwargs)\n\u001b[1;32m     78\u001b[0m \u001b[39mfinally\u001b[39;00m:\n\u001b[1;32m     79\u001b[0m     \u001b[39mfor\u001b[39;00m arr, old_flag \u001b[39min\u001b[39;00m \u001b[39mzip\u001b[39m(array_args, old_flags):\n",
      "File \u001b[0;32m/usr/local/lib/python3.10/site-packages/shapely/creation.py:171\u001b[0m, in \u001b[0;36mlinearrings\u001b[0;34m(coords, y, z, indices, out, **kwargs)\u001b[0m\n\u001b[1;32m    169\u001b[0m coords \u001b[39m=\u001b[39m _xyz_to_coords(coords, y, z)\n\u001b[1;32m    170\u001b[0m \u001b[39mif\u001b[39;00m indices \u001b[39mis\u001b[39;00m \u001b[39mNone\u001b[39;00m:\n\u001b[0;32m--> 171\u001b[0m     \u001b[39mreturn\u001b[39;00m lib\u001b[39m.\u001b[39;49mlinearrings(coords, out\u001b[39m=\u001b[39;49mout, \u001b[39m*\u001b[39;49m\u001b[39m*\u001b[39;49mkwargs)\n\u001b[1;32m    172\u001b[0m \u001b[39melse\u001b[39;00m:\n\u001b[1;32m    173\u001b[0m     \u001b[39mreturn\u001b[39;00m simple_geometries_1d(coords, indices, GeometryType\u001b[39m.\u001b[39mLINEARRING, out\u001b[39m=\u001b[39mout)\n",
      "\u001b[0;31mKeyboardInterrupt\u001b[0m: "
     ]
    }
   ],
   "source": [
    "def flatten_2dlist(l): return [item for sublist in l for item in sublist]\n",
    "\n",
    "room_coords = [(-10, -10), (-10, 10), (10, 10), (10, -10)]\n",
    "tables = []\n",
    "for i in range(2):\n",
    "    table_coords = add_random_table(room_coords, tables, 1)\n",
    "    tables.append(table_coords)\n",
    "\n",
    "objects2d = []\n",
    "for table_coords in tables:\n",
    "    objects_1d = []\n",
    "    for i in range(2):\n",
    "        object_coords = add_random_objet(table_coords, objects_1d, min_distance_between_objects = 0.1, object_size = 1)\n",
    "        objects_1d.append(object_coords)\n",
    "    objects2d.append(objects_1d)\n",
    "\n",
    "objects = flatten_2dlist(objects2d)\n",
    "plot(room_coords, tables, objects)"
   ]
  },
  {
   "cell_type": "code",
   "execution_count": null,
   "metadata": {},
   "outputs": [],
   "source": []
  }
 ],
 "metadata": {
  "kernelspec": {
   "display_name": "Python 3",
   "language": "python",
   "name": "python3"
  },
  "language_info": {
   "codemirror_mode": {
    "name": "ipython",
    "version": 3
   },
   "file_extension": ".py",
   "mimetype": "text/x-python",
   "name": "python",
   "nbconvert_exporter": "python",
   "pygments_lexer": "ipython3",
   "version": "3.10.9"
  }
 },
 "nbformat": 4,
 "nbformat_minor": 2
}
